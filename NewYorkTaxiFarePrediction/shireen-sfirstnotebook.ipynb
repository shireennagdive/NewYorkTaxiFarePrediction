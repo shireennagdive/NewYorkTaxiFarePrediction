{
 "cells": [
  {
   "cell_type": "code",
   "execution_count": null,
   "metadata": {
    "_cell_guid": "b1076dfc-b9ad-4769-8c92-a6c4dae69d19",
    "_uuid": "8f2839f25d086af736a60e9eeb907d3b93b6e0e5"
   },
   "outputs": [],
   "source": [
    "import numpy as np\n",
    "import pandas as pd\n",
    "import feather\n",
    "import seaborn as sb\n",
    "import os\n",
    "import matplotlib.pyplot as plt\n",
    "from sklearn import datasets, linear_model\n",
    "from sklearn.model_selection import train_test_split\n",
    "import warnings\n",
    "from datetime import datetime\n",
    "import calendar\n",
    "warnings.filterwarnings('ignore', category=RuntimeWarning)\n",
    "print(os.listdir(\"../input/shireen-sfirstnotebook\"))\n",
    "df_tmp = pd.read_csv('../input/new-york-city-taxi-fare-prediction/train.csv', nrows = 10_000_000)\n",
    "holidays_df = pd.read_csv(\"../input/new-york-city-taxi-fare-prediction/NYC_holidays.csv\")\n",
    "test_df = pd.read_csv('../input/new-york-city-taxi-fare-prediction/test.csv')\n",
    "path = 'train_data.feather'\n",
    "df_tmp.to_feather('train_data.feather')\n"
   ]
  },
  {
   "cell_type": "code",
   "execution_count": null,
   "metadata": {
    "_uuid": "5a61fc7e6e56025ad09e177a42d62cb8479373d3"
   },
   "outputs": [],
   "source": [
    "df = pd.read_feather('train_data.feather')\n",
    "df['pickup_latitude'] = df['pickup_latitude'].astype(\"float32\")\n",
    "df['pickup_longitude'] = df['pickup_longitude'].astype(\"float32\")\n",
    "df['dropoff_longitude'] = df['dropoff_longitude'].astype(\"float32\")\n",
    "df['dropoff_latitude'] = df['dropoff_latitude'].astype(\"float32\")\n",
    "df['pickup_latitude'] = df['pickup_latitude'].astype(\"float32\")\n",
    "df['passenger_count'] = df['passenger_count'].astype(\"uint8\")\n",
    "df['fare_amount'] = df['fare_amount'].astype(\"float32\")"
   ]
  },
  {
   "cell_type": "code",
   "execution_count": null,
   "metadata": {
    "_uuid": "2f3117efd19b51002e057d62ae9e95c502ee6920"
   },
   "outputs": [],
   "source": [
    "df = pd.read_feather('train_data.feather')\n",
    "df['abs_lat_diff'] = (df['dropoff_latitude'] - df['pickup_latitude']).abs()\n",
    "df['abs_lon_diff'] = (df['dropoff_longitude'] - df['pickup_longitude']).abs()\n",
    "test_df['abs_lat_diff'] = (test_df['dropoff_latitude'] - test_df['pickup_latitude']).abs()\n",
    "test_df['abs_lon_diff'] = (test_df['dropoff_longitude'] - test_df['pickup_longitude']).abs()"
   ]
  },
  {
   "cell_type": "code",
   "execution_count": null,
   "metadata": {
    "_uuid": "a3d1abc35b08fdd9b72d67cc4a6010adcf1917db"
   },
   "outputs": [],
   "source": [
    "df = df.dropna(axis=0, how='any') #Removed NaN's\n",
    "print('After removing NaN, New size: %d'  % len(df))\n",
    "df = df[(df != 0).all(1)] #Removed all zeroes\n",
    "df = df[(df.fare_amount > 2.5) & (df.fare_amount <= 100)]\n",
    "print('After removing zeroes and fare outliers, New size: %d' % len(df))\n",
    "df = df.loc[df['passenger_count'] <= 6]\n",
    "print('After removing passenger_counts greater than 6, New size: %d' % len(df))"
   ]
  },
  {
   "cell_type": "code",
   "execution_count": null,
   "metadata": {
    "_uuid": "0a6b60936c50976b53fead2b7551b530608831e5"
   },
   "outputs": [],
   "source": [
    "df['pickup_date'] , df['pickup_hour'] = df['pickup_datetime'].str.split(' ', 1).str \n",
    "df['day_of_week'] = df['pickup_date'].apply(lambda x: calendar.day_name[(datetime.strptime(x, '%Y-%m-%d')).weekday()])\n",
    "print(\"Pickup Date,Pickup Hour and Day of week added to data frame\")"
   ]
  },
  {
   "cell_type": "code",
   "execution_count": null,
   "metadata": {
    "_uuid": "8dd57718ff6ac2850e9623a92dd0741b402bbac9"
   },
   "outputs": [],
   "source": [
    "df['pickup_hour'] = df.pickup_hour.str[0:2]\n",
    "df['pickup_hour'] = df['pickup_hour'].apply(pd.to_numeric)\n",
    "df['pickup_hour'] = df['pickup_hour'].astype(\"uint8\")"
   ]
  },
  {
   "cell_type": "code",
   "execution_count": null,
   "metadata": {
    "_uuid": "49429f26844b5f0ba426e87133edb2c94a48baf6"
   },
   "outputs": [],
   "source": [
    "test_df['pickup_date'] , test_df['pickup_hour'] = test_df['pickup_datetime'].str.split(' ', 1).str\n",
    "test_df['pickup_hour'] = test_df.pickup_hour.str[0:2]\n",
    "test_df['pickup_hour'] = test_df['pickup_hour'].apply(pd.to_numeric)"
   ]
  },
  {
   "cell_type": "code",
   "execution_count": null,
   "metadata": {
    "_cell_guid": "79c7e3d0-c299-4dcb-8224-4455121ee9b0",
    "_uuid": "d629ff2d2480ee46fbb7e2d37f6b5fab8052498a"
   },
   "outputs": [],
   "source": [
    "max_long = -71.7517\n",
    "min_long = -79.7624\n",
    "max_lat = 45.0153\n",
    "min_lat = 40.4772\n",
    "df = df[(df.pickup_longitude >= min_long) & (df.pickup_longitude <= max_long) & #Removed locations outside of NY\n",
    "        (df.dropoff_longitude >= min_long) &(df.dropoff_longitude <= max_long) &\n",
    "        (df.pickup_latitude >= min_lat) & (df.pickup_latitude <= max_lat) & \n",
    "        (df.dropoff_latitude >= min_lat) &(df.dropoff_latitude <= max_lat)]\n",
    "print(\"After NY outliers, Newest Size : %d\" %len(df))"
   ]
  },
  {
   "cell_type": "code",
   "execution_count": null,
   "metadata": {
    "_uuid": "ed50c09cb0ba526417760c373d03d9275d2359aa"
   },
   "outputs": [],
   "source": [
    "from math import radians, sin, cos, sqrt, asin\n",
    "df.info()\n",
    "#Referenced logic to compute haversine from https://en.wikipedia.org/wiki/Haversine_formula\n",
    "def haversine_np(lon1, lat1, lon2, lat2):\n",
    "    lon1, lat1, lon2, lat2 = map(np.radians, [lon1, lat1, lon2, lat2])\n",
    "    a = np.sin((lat2-lat1)/2.0)**2 + np.cos(lat1) * np.cos(lat2) * np.sin((lon2-lon1)/2.0)**2\n",
    "    return 6367 * 2 * np.arcsin(np.sqrt(a)) *0.62137\n",
    "\n",
    "df['trip_distance'] = haversine_np(df.pickup_longitude, df.pickup_latitude,df.dropoff_longitude,\n",
    "                 df.dropoff_latitude)\n",
    "\n",
    "# df['trip_distance'] = haversine_np(df.pickup_latitude, df.pickup_longitude, df.dropoff_latitude, df.dropoff_longitude)\n",
    "print(\"After less distance entries removal, Newest Size : %d\" %len(df))\n"
   ]
  },
  {
   "cell_type": "code",
   "execution_count": null,
   "metadata": {
    "_uuid": "16ac15a6693e4c9093f559d4a15e67b36da083f5"
   },
   "outputs": [],
   "source": [
    "df = df[(df['trip_distance']>0.5) & (df['trip_distance']<30)] "
   ]
  },
  {
   "cell_type": "code",
   "execution_count": null,
   "metadata": {
    "_uuid": "3d7bff3e8fb35341445e29c4270d21d83c72dcc5"
   },
   "outputs": [],
   "source": [
    "df = df.assign(holiday_or_not=df['pickup_date'].apply(lambda x: x in holidays_df[\"Date\"]))\n",
    "df[\"holiday_or_not\"] = df[\"holiday_or_not\"].astype(\"unit8\")\n",
    "df_new = df[df[\"holiday_or_not\"] == 1]\n",
    "holiday_data_df_group = holiday_data_df[[\"date\", \"vendor_id\"]].groupby(\"date\").count()\n",
    "len(df_new)"
   ]
  },
  {
   "cell_type": "code",
   "execution_count": null,
   "metadata": {
    "_uuid": "d9836d6be58aab69ad7b8db0e69ef1f850020baf"
   },
   "outputs": [],
   "source": [
    "test_df['trip_distance'] =  haversine_np(test_df.pickup_longitude, test_df.pickup_latitude,test_df.dropoff_longitude,\n",
    "                 test_df.dropoff_latitude)"
   ]
  },
  {
   "cell_type": "code",
   "execution_count": null,
   "metadata": {
    "_uuid": "e8559c1a9d956bbab039f850d69da9bfb18874fb",
    "scrolled": true
   },
   "outputs": [],
   "source": [
    "import matplotlib.pyplot as plt\n",
    "pearsoncoeff_tripdistance_amount = df['trip_distance'].corr(df['fare_amount'], method='pearson')\n",
    "print(pearsoncoeff_tripdistance_amount)\n",
    "\n",
    "figure, graph = plt.subplots(1, 2, figsize=(16,6))\n",
    "graph[0].scatter(df.trip_distance, df.fare_amount, alpha=0.3)\n",
    "graph[0].set_xlabel('Distance Travelled')\n",
    "graph[0].set_ylabel('Fare Amount')\n",
    "graph[0].set_title('Distance vs Fare')"
   ]
  },
  {
   "cell_type": "code",
   "execution_count": null,
   "metadata": {
    "_uuid": "f8df6b73590e72417f9eb5bf448c05a10626e9ab"
   },
   "outputs": [],
   "source": [
    "pearsoncoeff_triphour_distance = df['pickup_hour'].corr(df['trip_distance'], method='pearson')\n",
    "print(pearsoncoeff_triphour_distance)\n",
    "\n",
    "df.groupby('pickup_hour')['trip_distance'].mean().sort_index().plot.bar(color='c');\n",
    "plt.title('Correlation between Average Fare Amount and Distance Travelled');\n",
    "plt.ylabel('Trip Distance');"
   ]
  },
  {
   "cell_type": "code",
   "execution_count": null,
   "metadata": {
    "_uuid": "f825c75df41f72fece672750c29e3312c66fc160"
   },
   "outputs": [],
   "source": [
    "pearsoncoeff_hour_fare =  df['pickup_hour'].corr(df['fare_amount'], method='pearson')\n",
    "print(pearsoncoeff_hour_fare)"
   ]
  },
  {
   "cell_type": "code",
   "execution_count": null,
   "metadata": {
    "_uuid": "afc00a882752c552b13633291766ad192308cad2"
   },
   "outputs": [],
   "source": [
    "df.groupby('pickup_hour')['fare_amount'].mean().sort_index().plot.bar(color='g');\n",
    "plt.title('Correlation between Average Fare Amount and Time of the day');\n",
    "plt.ylabel('Fare Amount');"
   ]
  },
  {
   "cell_type": "code",
   "execution_count": null,
   "metadata": {
    "_uuid": "b203f6d05f3e8b8c15b1f05fdeca4c45205b2f20"
   },
   "outputs": [],
   "source": [
    "#Exciting Plot\n",
    "df.groupby('day_of_week')['trip_distance'].mean().plot.bar(color='c');\n",
    "plt.title('Correlation between day of the week and distance travelled');\n",
    "plt.ylabel('Distance Travelled');"
   ]
  },
  {
   "cell_type": "code",
   "execution_count": null,
   "metadata": {
    "_uuid": "a09310ee050b81401779080767e50786489e33c9"
   },
   "outputs": [],
   "source": [
    "from sklearn import metrics\n",
    "X = df.drop(['key','fare_amount','pickup_datetime','day_of_week','pickup_date'],axis=1)\n",
    "X_train, X_test, y_train, y_test = train_test_split(X,df['fare_amount'], test_size=0.2)\n",
    "lm = linear_model.LinearRegression()\n",
    "lm.fit(X_train,y_train)\n",
    "y_pred = lm.predict(X)\n",
    "lrmse = np.sqrt(metrics.mean_squared_error(y_pred, df['fare_amount']))\n",
    "lrmse"
   ]
  },
  {
   "cell_type": "code",
   "execution_count": null,
   "metadata": {
    "_uuid": "9861bb45a2216f6afacbfcbd8ec6ebcae4f0b165"
   },
   "outputs": [],
   "source": [
    "\n",
    "lr = linear_model.LinearRegression()\n",
    "lr.fit(df[['trip_distance', 'pickup_longitude', 'pickup_latitude', 'dropoff_longitude', 'dropoff_latitude',\n",
    "             'passenger_count','abs_lat_diff','abs_lon_diff','pickup_hour']], df['fare_amount'])\n",
    "print('Intercept', round(lr.intercept_, 4))\n",
    "predicted_values = lr.predict(test_df[['trip_distance', 'pickup_longitude', 'pickup_latitude', 'dropoff_longitude',\n",
    "                                    'dropoff_latitude', 'passenger_count','abs_lat_diff','abs_lon_diff','pickup_hour']])\n",
    "print('Intercept', round(lr.intercept_, 4))\n",
    "print('Trip Distance: ', round(lr.coef_[0], 4), \n",
    "      '\\tPickup Longitude:', round(lr.coef_[1], 4),\n",
    "      '\\tPickup Latitude:', round(lr.coef_[2], 4),\n",
    "     '\\Dropoff Longitude:', round(lr.coef_[3], 4),\n",
    "     '\\Dropoff Latitude:', round(lr.coef_[4], 4),\n",
    "     '\\Passenger Count:', round(lr.coef_[5], 4),\n",
    "     '\\Absolute Latitude Difference:', round(lr.coef_[6], 4),\n",
    "     '\\Absolute Longitude Difference:', round(lr.coef_[7], 4),\n",
    "     '\\Pickup Hour:', round(lr.coef_[8], 4))\n",
    "# submission = pd.DataFrame(\n",
    "#     {'key': test_df.key, 'fare_amount': predicted_values},\n",
    "#     columns = ['key', 'fare_amount'])\n",
    "# submission.to_csv('submission.csv', index = False)\n",
    "\n",
    "print(os.listdir('.'))"
   ]
  },
  {
   "cell_type": "code",
   "execution_count": null,
   "metadata": {
    "_uuid": "5fcaaa0272a83791f73006268369ec5be575ef70"
   },
   "outputs": [],
   "source": [
    "from sklearn.ensemble import RandomForestRegressor as randomforest\n",
    "\n",
    "# Create the random forest\n",
    "random_forest = randomforest(n_estimators = 20, max_depth = 20, \n",
    "                                      max_features = None, oob_score = True, \n",
    "                                      bootstrap = True, verbose = 1, n_jobs = -1)\n",
    "\n",
    "# Train on data\n",
    "random_forest.fit(df[['trip_distance', 'pickup_longitude','pickup_latitude','dropoff_longitude','dropoff_latitude', 'abs_lat_diff', 'abs_lon_diff', 'passenger_count']], df['fare_amount'])\n",
    "predicted_values = random_forest.predict(test_df[['trip_distance', 'pickup_longitude', 'pickup_latitude', 'dropoff_longitude',\n",
    "                                    'dropoff_latitude','abs_lat_diff', 'abs_lon_diff', 'passenger_count']])\n",
    "submission = pd.DataFrame(\n",
    "    {'key': test_df.key, 'fare_amount': predicted_values},\n",
    "    columns = ['key', 'fare_amount'])\n",
    "submission.to_csv('submission.csv', index = False)\n",
    "\n",
    "print(os.listdir('.'))"
   ]
  }
 ],
 "metadata": {
  "kernelspec": {
   "display_name": "Python 3",
   "language": "python",
   "name": "python3"
  },
  "language_info": {
   "codemirror_mode": {
    "name": "ipython",
    "version": 3
   },
   "file_extension": ".py",
   "mimetype": "text/x-python",
   "name": "python",
   "nbconvert_exporter": "python",
   "pygments_lexer": "ipython3",
   "version": "3.6.5"
  }
 },
 "nbformat": 4,
 "nbformat_minor": 1
}
