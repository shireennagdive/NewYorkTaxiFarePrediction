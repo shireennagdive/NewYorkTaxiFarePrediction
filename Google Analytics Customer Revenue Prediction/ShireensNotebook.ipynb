{
 "cells": [
  {
   "cell_type": "code",
   "execution_count": null,
   "metadata": {
    "_cell_guid": "b1076dfc-b9ad-4769-8c92-a6c4dae69d19",
    "_uuid": "8f2839f25d086af736a60e9eeb907d3b93b6e0e5",
    "scrolled": true
   },
   "outputs": [],
   "source": [
    "import numpy as np # linear algebra\n",
    "import pandas as pd # data processing, CSV file I/O (e.g. pd.read_csv)\n",
    "import lightgbm as lgb\n",
    "from lightgbm.sklearn import LGBMRegressor\n",
    "pd.set_option('display.max_columns', None)\n",
    "pd.set_option('display.max_rows', None)\n",
    "import warnings\n",
    "warnings.filterwarnings('ignore')\n",
    "from pandas.io.json import json_normalize\n",
    "from sklearn import metrics \n",
    "import json\n",
    "import feather\n",
    "import matplotlib.pyplot as plt\n",
    "%matplotlib inline\n",
    "plt.style.use('fivethirtyeight')\n",
    "from sklearn.model_selection import KFold,StratifiedKFold\n",
    "\n",
    "from sklearn import preprocessing\n",
    "import seaborn as sns\n",
    "from sklearn.model_selection import train_test_split\n",
    "import os\n",
    "print(os.listdir(\"../input\"))"
   ]
  },
  {
   "cell_type": "code",
   "execution_count": null,
   "metadata": {
    "_cell_guid": "79c7e3d0-c299-4dcb-8224-4455121ee9b0",
    "_uuid": "d629ff2d2480ee46fbb7e2d37f6b5fab8052498a",
    "scrolled": true
   },
   "outputs": [],
   "source": [
    "#Developed a function to flatten columns having JSON objects.\n",
    "#Added new columns having key values of JSON Objects as columns\n",
    "import pandas as pd\n",
    "import os\n",
    "from pandas.io.json import json_normalize\n",
    "import json\n",
    "def load_df(csv_path='../input/ga-customer-revenue-prediction/train.csv', nrows=None):\n",
    "    COLUMNS_HAVING_JSON = ['device', 'geoNetwork', 'totals', 'trafficSource']\n",
    "    df_json_columns = pd.read_csv(csv_path, \n",
    "                     converters={column: json.loads for column in COLUMNS_HAVING_JSON}, \n",
    "                     dtype={'fullVisitorId': 'str'},\n",
    "                     nrows=nrows)\n",
    "    for column in COLUMNS_HAVING_JSON:\n",
    "        df_column = json_normalize(df_json_columns[column])\n",
    "        df_column.columns = [f\"{column}_{key}\" for key in df_column.columns]\n",
    "        df_json_columns = df_json_columns.drop(column, axis=1)\n",
    "        df_json_columns = df_json_columns.merge(df_column, right_index=True, left_index=True)\n",
    "    print(f\"Loaded {os.path.basename(csv_path)}. Shape: {df_json_columns.shape}\")\n",
    "    return df_json_columns"
   ]
  },
  {
   "cell_type": "code",
   "execution_count": null,
   "metadata": {
    "_uuid": "336eebb5b7501706d90b66197be58e24195409da"
   },
   "outputs": [],
   "source": [
    "training_df = load_df(\"../input/ga-customer-revenue-prediction/train.csv\")\n",
    "test_df = load_df(\"../input/ga-customer-revenue-prediction/test.csv\")"
   ]
  },
  {
   "cell_type": "code",
   "execution_count": null,
   "metadata": {
    "_uuid": "206f185dde0f0d7bb4aa98031d65c9a58cb3c6ed",
    "scrolled": false
   },
   "outputs": [],
   "source": [
    "training_df.to_feather('train_data.feather')\n",
    "test_df.to_feather('test_data.feather')\n",
    "print(\"Loaded data in feather file\")"
   ]
  },
  {
   "cell_type": "code",
   "execution_count": null,
   "metadata": {
    "_uuid": "5cba841622718acac545f2949d73e4f04faa3a01",
    "scrolled": true
   },
   "outputs": [],
   "source": [
    "df = pd.read_feather('train_data.feather')\n",
    "test_df = pd.read_feather('test_data.feather')\n",
    "print(\"Loaded from feather file\")"
   ]
  },
  {
   "cell_type": "code",
   "execution_count": null,
   "metadata": {
    "_uuid": "944e90ca010087fd75c9e5bd99e4aa7d8065a2ba",
    "scrolled": false
   },
   "outputs": [],
   "source": [
    "#Removed columns having constant and null values in test and training data\n",
    "constant_valued_columns = [c for c in df.columns if df[c].nunique(dropna=False)==1]\n",
    "non_relevant = [\"visitNumber\", \"date\", \"fullVisitorId\", \n",
    "                \"sessionId\", \"visitId\", \"visitStartTime\"]\n",
    "df = df.drop(constant_valued_columns, axis=1)\n",
    "test_df = test_df.drop(constant_valued_columns, axis=1)\n",
    "## non relevant columns\n",
    "df=df.drop(['trafficSource_campaignCode'],axis=1)"
   ]
  },
  {
   "cell_type": "code",
   "execution_count": null,
   "metadata": {
    "_uuid": "4c279ad830babe55c2a93246976eb8bcac571414",
    "scrolled": true
   },
   "outputs": [],
   "source": [
    "def convert_totals_columns_to_float(df,isTrain=True):\n",
    "    numeric_cols_to_transform = ['totals_hits'\n",
    "                ,'totals_pageviews'\n",
    "                ,'totals_newVisits'\n",
    "                ,'totals_bounces']\n",
    "    if isTrain == True:\n",
    "        df[numeric_cols_to_transform] = df[numeric_cols_to_transform].fillna(0)\n",
    "        df['totals_transactionRevenue'] = df['totals_transactionRevenue'].fillna(0)\n",
    "    else:\n",
    "        df[numeric_cols_to_transform] = df[numeric_cols_to_transform].fillna(0) \n",
    "    for col in numeric_cols_to_transform:\n",
    "        df[col] = df[col].astype('float32')\n",
    "    if isTrain == True:\n",
    "         df['totals_transactionRevenue'] = df['totals_transactionRevenue'].astype('float32')\n",
    "    return df"
   ]
  },
  {
   "cell_type": "code",
   "execution_count": null,
   "metadata": {
    "_uuid": "a09edeb18f935507c07f5b3e7f05a67aa93b71cd",
    "scrolled": false
   },
   "outputs": [],
   "source": [
    "df['totals_transactionRevenue'] = df['totals_transactionRevenue'].astype('float32')\n",
    "df=df.drop(['trafficSource_campaignCode'],axis=1)"
   ]
  },
  {
   "cell_type": "code",
   "execution_count": null,
   "metadata": {
    "_uuid": "2adb6124e9bd85a751d325c0fd72d01b571d53fe",
    "scrolled": true
   },
   "outputs": [],
   "source": [
    "#Plotting mean transaction revenue by continent\n",
    "import matplotlib.pyplot as plt\n",
    "x = [{i:np.random.randint(1,5)} for i in range(10)]\n",
    "df_plot = df.groupby('geoNetwork_continent')['totals_transactionRevenue'].mean()\n",
    "my_colors = [(x/10.0, x/20.0, 0.75) for x in range(len(df_plot))]\n",
    "df_plot.plot(kind='bar',colors=my_colors,grid='false')\n",
    "plt.title('Mean revenue by continent')\n",
    "plt.ylabel('Mean Revenue')"
   ]
  },
  {
   "cell_type": "code",
   "execution_count": null,
   "metadata": {
    "_uuid": "9de1d038dd2c9360c6d6d38c51688ad720edbd8c"
   },
   "outputs": [],
   "source": [
    "#Plotting mean transaction revenue by continent\n",
    "import matplotlib.pyplot as plt\n",
    "x = [{i:np.random.randint(1,5)} for i in range(10)]\n",
    "df_plot = df.groupby('geoNetwork_subContinent')['totals_transactionRevenue'].mean()\n",
    "my_colors = [(x/10.0, x/20.0, 0.75) for x in range(len(df_plot))]\n",
    "df_plot.plot(kind='bar',grid='false')\n",
    "plt.title('Mean revenue by subContinent');\n",
    "plt.ylabel('Mean Revenue')"
   ]
  },
  {
   "cell_type": "code",
   "execution_count": null,
   "metadata": {
    "_uuid": "5f0975809796057596cd0f3afe7bcf0936eb3151"
   },
   "outputs": [],
   "source": [
    "#Plotting total count transaction revenue, non-zero count of transaction revenue \n",
    "#and mean of transaction revenue Vs Continent\n",
    "import matplotlib.pyplot as plt\n",
    "x = [{i:np.random.randint(1,5)} for i in range(10)]\n",
    "df_plot = df.groupby('geoNetwork_continent')['totals_transactionRevenue'].agg(['size','count'])\n",
    "df_plot.columns = [\"Size\",\"Count\"]\n",
    "df_plot_count = df_plot.groupby('geoNetwork_continent')['Count'].mean().sort_index()\n",
    "df_plot_count.plot(kind='bar',grid='false')\n",
    "plt.title('Total Non-Zero Count of Transaction_Revenue Vs Continent');\n",
    "plt.ylabel('Count')\n",
    "df.dtypes"
   ]
  },
  {
   "cell_type": "code",
   "execution_count": null,
   "metadata": {
    "_uuid": "28b8113038646cdddbfb4099827e45a5ef27d596"
   },
   "outputs": [],
   "source": [
    "import matplotlib.pyplot as plt\n",
    "x = [{i:np.random.randint(1,5)} for i in range(10)]\n",
    "df_plot = df.groupby('geoNetwork_subContinent')['totals_transactionRevenue'].count()\n",
    "df_plot.plot(kind='bar',grid='false')\n",
    "plt.title('Total Non-Zero Count of Transaction Revenue Vs SubContinent')\n",
    "plt.ylabel('Count')"
   ]
  },
  {
   "cell_type": "code",
   "execution_count": null,
   "metadata": {
    "_uuid": "b881c1ab17f38faca57ae2ac5b0d22b37a6a205e"
   },
   "outputs": [],
   "source": [
    "import matplotlib.pyplot as plt\n",
    "x = [{i:np.random.randint(1,5)} for i in range(10)]\n",
    "df_plot = df.groupby('geoNetwork_continent')['totals_transactionRevenue'].size()\n",
    "df_plot.plot(kind='bar',grid='false')\n",
    "plt.title('Size of Transaction Revenue Vs Continent')\n",
    "plt.ylabel('Count')"
   ]
  },
  {
   "cell_type": "code",
   "execution_count": null,
   "metadata": {
    "_uuid": "68b09530f78b110f50b04e6d321c9fb0f6054874"
   },
   "outputs": [],
   "source": [
    "import matplotlib.pyplot as plt\n",
    "x = [{i:np.random.randint(1,5)} for i in range(10)]\n",
    "df_plot = df.groupby('geoNetwork_subContinent')['totals_transactionRevenue'].size()\n",
    "df_plot.plot(kind='bar',grid='false')\n",
    "plt.title('Total Count of Transaction Revenue Vs SubContinent')\n",
    "plt.ylabel('Count')\n"
   ]
  },
  {
   "cell_type": "code",
   "execution_count": null,
   "metadata": {
    "_uuid": "620302a2dbf626f677864f50332e225821b93a12"
   },
   "outputs": [],
   "source": [
    "#Plotting total visits per continent\n",
    "import matplotlib.pyplot as plt\n",
    "x = [{i:np.random.randint(1,5)} for i in range(10)]\n",
    "df_plot = df.groupby('geoNetwork_continent')['fullVisitorId'].count()\n",
    "df_plot.plot(kind='bar',grid='false')\n",
    "plt.title('Visits Per Continent')\n",
    "plt.ylabel('Visits')"
   ]
  },
  {
   "cell_type": "code",
   "execution_count": null,
   "metadata": {
    "_uuid": "47739bc04d0c12f5e70e540a52bdc98fb9b4bef5"
   },
   "outputs": [],
   "source": [
    "#Plotting total visits per sub-continent\n",
    "import matplotlib.pyplot as plt\n",
    "x = [{i:np.random.randint(1,5)} for i in range(10)]\n",
    "df_plot = df.groupby('geoNetwork_subContinent')['fullVisitorId'].count()\n",
    "df_plot.plot(kind='bar',grid='false')\n",
    "plt.title('Visits Per subContinent')\n",
    "plt.ylabel('Visits')"
   ]
  },
  {
   "cell_type": "code",
   "execution_count": null,
   "metadata": {
    "_uuid": "94016861342f6ee41bd1a46a785c33fc5a541f38"
   },
   "outputs": [],
   "source": [
    "#Plotting total count transaction revenue, non-zero count of\n",
    "#transaction revenue and mean of transaction revenue Vs operatingSystem\n",
    "import matplotlib.pyplot as plt\n",
    "x = [{i:np.random.randint(1,5)} for i in range(10)]\n",
    "df_plot = df.groupby('device_operatingSystem')['totals_transactionRevenue']\n",
    ".agg(['size','count','mean'])\n",
    "df_plot.head()\n",
    "df_plot.columns = [\"Size\", \"Count\", \"Mean\"]\n",
    "\n",
    "df_plot_count = df_plot.groupby('device_operatingSystem')['Size'].mean()\n",
    "df_plot_count.plot(kind='bar',grid='false')\n",
    "plt.title('Total Count of Transaction Revenue Vs Operating System')\n",
    "plt.ylabel('Count')"
   ]
  },
  {
   "cell_type": "code",
   "execution_count": null,
   "metadata": {
    "_uuid": "b34c5a87af003fbe6456b9c17b41c8cc53d3b4bc"
   },
   "outputs": [],
   "source": [
    "df_plot_non_revenue_count = df_plot.groupby('device_operatingSystem')['Count'].mean()\n",
    "df_plot_non_revenue_count.plot(kind='bar',grid='false')\n",
    "plt.title('Total Non-Zero of Transaction Revenue Count Vs Operating System')\n",
    "plt.ylabel('Count')"
   ]
  },
  {
   "cell_type": "code",
   "execution_count": null,
   "metadata": {
    "_uuid": "8d53cbdf8eff3ee7b691f49085e240d1eeb4f133"
   },
   "outputs": [],
   "source": [
    "df_plot_mean = df_plot.groupby('device_operatingSystem')['Mean'].mean()\n",
    "df_plot_mean.plot(kind='bar',grid='false')\n",
    "plt.title('Mean of Transaction Revenue Count Vs Operating System')\n",
    "plt.ylabel('Count')"
   ]
  },
  {
   "cell_type": "code",
   "execution_count": null,
   "metadata": {
    "_uuid": "f90787fa861ccd0430c26b4e97b2943b5566c025"
   },
   "outputs": [],
   "source": [
    "import matplotlib.pyplot as plt\n",
    "x = [{i:np.random.randint(1,5)} for i in range(10)]\n",
    "df_plot = df.groupby('device_deviceCategory')['totals_transactionRevenue'].agg(['size','count'])\n",
    "df_plot.head()\n",
    "df_plot.columns = [\"Size\", \"Count\"]\n",
    "\n",
    "df_plot_count = df_plot.groupby('device_deviceCategory')['Size'].mean()\n",
    "my_colors = [(x/10.0, x/20.0, 0.75) for x in range(len(df_plot))]\n",
    "\n",
    "df_plot_count.plot(kind='bar',grid='false',colors=my_colors)\n",
    "plt.title('Total Count of Transaction Revenue Vs Device Category')\n",
    "plt.ylabel('Count')"
   ]
  },
  {
   "cell_type": "code",
   "execution_count": null,
   "metadata": {
    "_uuid": "e11d3165df7a6b105a721d69754da9a3ec0aed49"
   },
   "outputs": [],
   "source": [
    "df_plot_non_zero_count = df_plot.groupby('device_deviceCategory')['Count'].mean()\n",
    "my_colors = [(x/10.0, x/20.0, 0.75) for x in range(len(df_plot))]\n",
    "\n",
    "df_plot_non_zero_count.plot(kind='bar',grid='false',colors=my_colors)\n",
    "plt.title('Total Non-Zero Count of Transaction Revenue Vs Device Category')\n",
    "plt.ylabel('Count')"
   ]
  },
  {
   "cell_type": "code",
   "execution_count": null,
   "metadata": {
    "_uuid": "d8eb39088fbccc91cfb3909cf62adbc35c9e9ef5"
   },
   "outputs": [],
   "source": [
    "#Plotting total count transaction revenue, non-zero count of \n",
    "#transaction revenue and mean of transaction revenue Vs Device Browser\n",
    "\n",
    "import matplotlib.pyplot as plt\n",
    "x = [{i:np.random.randint(1,5)} for i in range(10)]\n",
    "df_plot = df.groupby('device_browser')['totals_transactionRevenue'].agg(['size','count','mean'])\n",
    "df_plot.head()\n",
    "df_plot.columns = [\"Size\", \"Count\",\"Mean\"]"
   ]
  },
  {
   "cell_type": "code",
   "execution_count": null,
   "metadata": {
    "_uuid": "7fe566d795ec4c525792031777630abbaa35b39a"
   },
   "outputs": [],
   "source": [
    "df_plot_count = df_plot.groupby('device_browser')['Size'].mean()\n",
    "my_colors = [(x/10.0, x/20.0, 0.75) for x in range(len(df_plot))]\n",
    "df_plot = df_plot.sort_values([\"Size\"], ascending=False)\n",
    "df_plot_count.plot(kind='bar',grid='false',figsize=(20,5))\n",
    "plt.title('Total Count of Transaction Revenue Vs Device Browser')\n",
    "plt.ylabel('Count')"
   ]
  },
  {
   "cell_type": "code",
   "execution_count": null,
   "metadata": {
    "_uuid": "127d22d9b6684074ab45336efe8e1aa91d8c7e93"
   },
   "outputs": [],
   "source": [
    "df_plot_count = df_plot.groupby('device_browser')['Count'].mean()\n",
    "my_colors = [(x/10.0, x/20.0, 0.75) for x in range(len(df_plot))]\n",
    "\n",
    "df_plot_count.plot(kind='bar',grid='false',figsize=(20,5))\n",
    "plt.title('Total Non Transaction Revenue Vs Device Browser')\n",
    "plt.ylabel('Count')"
   ]
  },
  {
   "cell_type": "code",
   "execution_count": null,
   "metadata": {
    "_uuid": "8c6bfe076d8d7644ec5fee2e653e6703e946d4e3"
   },
   "outputs": [],
   "source": [
    "df_plot_count = df_plot.groupby('device_browser')['Mean'].mean()\n",
    "my_colors = [(x/10.0, x/20.0, 0.75) for x in range(len(df_plot))]\n",
    "\n",
    "df_plot_count.plot(kind='bar',grid='false',figsize=(20,5))\n",
    "plt.title('Mean of Transaction Revenue Vs Device Browser')\n",
    "plt.ylabel('Mean')"
   ]
  },
  {
   "cell_type": "code",
   "execution_count": null,
   "metadata": {
    "_uuid": "9bdadbf9eb3502ce5852cc5a4abd730342350ced"
   },
   "outputs": [],
   "source": [
    "import matplotlib.pyplot as plt\n",
    "x = [{i:np.random.randint(1,5)} for i in range(10)]\n",
    "df_plot = df.groupby('totals_hits')['totals_transactionRevenue'].agg(['size','count'])\n",
    "df_plot.head()\n",
    "df_plot.columns = [\"Size\", \"Count\"]\n",
    "df_plot = df_plot.sort_values([\"Size\"], ascending=False)\n",
    "df_plot1 = df_plot['Size'].head(60)\n",
    "df_plot1.plot(kind='barh',grid='false',figsize=(9, 9),yticks=range(0,60))\n",
    "plt.title('Hits Vs Total Count of Transaction Revenue')\n",
    "plt.ylabel('Hits')\n",
    "plt.xlabel('Total Count')"
   ]
  },
  {
   "cell_type": "code",
   "execution_count": null,
   "metadata": {
    "_uuid": "8a24970446751fa32b1f7fc750f6e3baa19eaa7b"
   },
   "outputs": [],
   "source": [
    "df_plot2 = df_plot['Count'].head(60)\n",
    "df_plot2.plot(kind='barh',grid='false',figsize=(11, 11),yticks=range(0,60))\n",
    "plt.title('Hits Vs Non-Zero Revenue Transactions')\n",
    "plt.ylabel('Hits')\n",
    "plt.xlabel('Total Count')"
   ]
  },
  {
   "cell_type": "code",
   "execution_count": null,
   "metadata": {
    "_uuid": "fc3dfef99da90eaa6d7d76391ab4bcd1ff05a62d"
   },
   "outputs": [],
   "source": [
    "import matplotlib.pyplot as plt\n",
    "x = [{i:np.random.randint(1,5)} for i in range(10)]\n",
    "df_plot = df.groupby('totals_pageviews')['totals_transactionRevenue'].agg(['size','count','mean'])\n",
    "df_plot.head()\n",
    "df_plot.columns = [\"Size\", \"Count\",\"Mean\"]\n",
    "df_plot = df_plot.sort_values([\"Size\"], ascending=False)\n",
    "df_plot_pv_count = df_plot['Size'].head(60)\n",
    "df_plot_pv_count.plot(kind='barh',grid='false',figsize=(9, 9))\n",
    "plt.title('PageViews Vs Total Count of Transactions')\n",
    "plt.ylabel('PageViews')\n",
    "plt.xlabel('Count')"
   ]
  },
  {
   "cell_type": "code",
   "execution_count": null,
   "metadata": {
    "_uuid": "adb7a91d0d0091070b67c1901b700177f59a3cda"
   },
   "outputs": [],
   "source": [
    "df_plot_pv_count = df_plot['Count'].head(60)\n",
    "df_plot_pv_count.plot(kind='barh',grid='false',figsize=(9, 9))\n",
    "plt.title('PageViews Total Vs Non-Zero Revenue Transactions')\n",
    "plt.ylabel('PageViews')\n",
    "plt.xlabel('Count')"
   ]
  },
  {
   "cell_type": "code",
   "execution_count": null,
   "metadata": {
    "_uuid": "6f064c6ca5fcae6ce814c6ee6c4d728bdf197168"
   },
   "outputs": [],
   "source": [
    "#Converting object values to categories\n",
    "from sklearn.preprocessing import LabelEncoder\n",
    "\n",
    "categorical_columns = [c for c in df.columns if not c.startswith(\"total\")]\n",
    "categorical_columns = [c for c in categorical_columns if c not in constant_valued_columns + non_relevant]\n",
    "for c in categorical_columns:\n",
    "\n",
    "    le = LabelEncoder()\n",
    "    train_vals = list(df[c].values.astype(str))\n",
    "    test_vals = list(test_df[c].values.astype(str))\n",
    "    \n",
    "    le.fit(train_vals + test_vals)\n",
    "    \n",
    "    df[c] = le.transform(train_vals)\n",
    "    test_df[c] = le.transform(test_vals)"
   ]
  },
  {
   "cell_type": "code",
   "execution_count": null,
   "metadata": {
    "_uuid": "db3b5dc4286ed7711c3ab675e7a5cf93203536eb"
   },
   "outputs": [],
   "source": [
    "df = convert_totals_columns_to_float(df)\n",
    "test_df = convert_totals_columns_to_float(test_df,False)"
   ]
  },
  {
   "cell_type": "code",
   "execution_count": null,
   "metadata": {
    "_uuid": "550889cfe6c467352cfedbcd49e979ec7bb0bded"
   },
   "outputs": [],
   "source": [
    "def normalize_numerical_columns(df, isTrain = True):\n",
    "    df[\"totals_hits\"] = df[\"totals_hits\"].astype(float)\n",
    "    df[\"totals_hits\"] = (df[\"totals_hits\"] - min(df[\"totals_hits\"])) /\n",
    "    (max(df[\"totals_hits\"]) - min(df[\"totals_hits\"]))\n",
    "\n",
    "    df[\"totals_pageviews\"] = df[\"totals_pageviews\"].astype(float)\n",
    "    df[\"totals_pageviews\"] = (df[\"totals_pageviews\"] - min(df[\"totals_pageviews\"])) / \n",
    "    (max(df[\"totals_pageviews\"]) - min(df[\"totals_pageviews\"]))\n",
    "    \n",
    "    if isTrain:\n",
    "        df[\"totals_transactionRevenue\"] = df[\"totals_transactionRevenue\"].fillna(0.0)\n",
    "    return df "
   ]
  },
  {
   "cell_type": "code",
   "execution_count": null,
   "metadata": {
    "_uuid": "62d2654c2e435646870c95bbf5267b408814375c"
   },
   "outputs": [],
   "source": [
    "df = normalize_numerical_columns(df)\n",
    "test_df = normalize_numerical_columns(test_df, isTrain = False)"
   ]
  },
  {
   "cell_type": "code",
   "execution_count": null,
   "metadata": {
    "_uuid": "04b629778507cbfb07b4f68123d2c9ec8b338331"
   },
   "outputs": [],
   "source": [
    "features = [c for c in df.columns if c not in constant_valued_columns + non_relevant]\n",
    "features.remove(\"totals_transactionRevenue\")\n",
    "df_new[\"totals_transactionRevenue\"] = np.log1p(df[\"totals_transactionRevenue\"].astype(float))"
   ]
  },
  {
   "cell_type": "code",
   "execution_count": null,
   "metadata": {
    "_uuid": "cab3915e1fd1012d1f91c8898a4362cca1e754e4"
   },
   "outputs": [],
   "source": [
    "#To Compute buying probability\n",
    "df_count_nonzero_tr = df.groupby('fullVisitorId')['totals_transactionRevenue'].agg(['count'])\n",
    "df_count_nonzero_tr.columns = [\"Count\"]\n",
    "totalNonZeroTransactionCount = df_count_nonzero_tr[\"Count\"].sum()\n",
    "df_count_nonzero_tr['buying_probability'] = df_count_nonzero_tr[\"Count\"]/totalNonZeroTransactionCount\n",
    "df_count_nonzero_tr=df_count_nonzero_tr.sort_values(by=['buying_probability'],ascending=False)\n",
    "print(df_count_nonzero_tr.head(10))\n",
    "\n",
    "probSum = df_count_nonzero_tr['buying_probability'].sum()\n",
    "print(probSum)"
   ]
  },
  {
   "cell_type": "code",
   "execution_count": null,
   "metadata": {
    "_uuid": "05f855012b0211c885dc3d8b237ce8423147e09e"
   },
   "outputs": [],
   "source": [
    "train_x, valid_x, train_y, valid_y = train_test_split(df[features],\n",
    "                                                      df_new[\"totals_transactionRevenue\"],\n",
    "                                                      test_size=0.20, random_state=42)"
   ]
  },
  {
   "cell_type": "code",
   "execution_count": null,
   "metadata": {
    "_uuid": "b49a225769429e4b2e000d0f001b24994816ef5a"
   },
   "outputs": [],
   "source": [
    "import lightgbm as lgb \n",
    "\n",
    "lgb_params = {\"objective\" : \"regression\",\n",
    "        \"metric\" : \"rmse\", \n",
    "        \"num_leaves\" : 200,\n",
    "        \"min_child_samples\" : 100,\n",
    "        \"learning_rate\" : 0.05,\n",
    "        \"boosting_type\" : \"gbdt\",\n",
    "        \"bagging_fraction\" : 0.7,\n",
    "        \"feature_fraction\" : 0.5,\n",
    "        \"bagging_frequency\" : 5,\n",
    "        \"bagging_seed\" : 2018,\n",
    "        \"verbosity\" : -1}\n",
    "    \n",
    "lgb_train = lgb.Dataset(train_x, label=train_y)\n",
    "lgb_val = lgb.Dataset(valid_x, label=valid_y)\n",
    "model = lgb.train(lgb_params, lgb_train, 700, valid_sets=[lgb_val], early_stopping_rounds=150)"
   ]
  },
  {
   "cell_type": "code",
   "execution_count": null,
   "metadata": {
    "_uuid": "a63cf28a9221baade75054ec6dff3ef941bef9fb"
   },
   "outputs": [],
   "source": [
    "unimportant_features = [\"visitNumber\", \"date\", \"fullVisitorId\", \"sessionId\", \"visitId\", \"visitStartTime\"]\n",
    "features = [c for c in df.columns if c not in constant_valued_columns + unimportant_features]\n",
    "print (features)"
   ]
  },
  {
   "cell_type": "code",
   "execution_count": null,
   "metadata": {
    "_uuid": "1ca7a330225b3a366ec0789070a363b43e625858"
   },
   "outputs": [],
   "source": [
    "features = [c for c in df.columns if c not in constant_valued_columns + unimportant_features]\n",
    "features.remove(\"totals_transactionRevenue\")\n",
    "preds = model.predict(test_df[features], num_iteration=model.best_iteration)\n",
    "test_df[\"PredictedLogRevenue\"] = np.expm1(preds)\n",
    "result = test_df.groupby(\"fullVisitorId\").agg({\"PredictedLogRevenue\" : \"sum\"}).reset_index()\n",
    "result[\"PredictedLogRevenue\"] = np.log1p(result[\"PredictedLogRevenue\"])\n",
    "result[\"PredictedLogRevenue\"] =  result[\"PredictedLogRevenue\"].apply(lambda x : 0.0 if x < 0 else x)\n",
    "result[\"PredictedLogRevenue\"] = result[\"PredictedLogRevenue\"].fillna(0)\n",
    "result.to_csv(\"baseline.csv\", index=False)\n",
    "print(result.isnull().values.any())\n",
    "result.head()"
   ]
  },
  {
   "cell_type": "code",
   "execution_count": null,
   "metadata": {
    "_uuid": "5d0a10bf4327e75f3de7a7e64421f15161bc0560"
   },
   "outputs": [],
   "source": [
    "def calculate_rmse(df_new):\n",
    "    \n",
    "    temp_df = pd.DataFrame()\n",
    "    temp_df[\"totals_transactionRevenue\"] = np.log1p(df_new[\"totals_transactionRevenue\"].astype(float))\n",
    "    train_x, valid_x, train_y, valid_y = train_test_split(df_new[features],\n",
    "                                                          temp_df[\"totals_transactionRevenue\"],\n",
    "                                                          test_size=0.2,\n",
    "                                                          random_state=20)\n",
    "\n",
    "\n",
    "    lgb_params = {\"objective\" : \"regression\", \"metric\" : \"rmse\",\n",
    "                  \"num_leaves\" : 50, \"learning_rate\" : 0.02, \n",
    "                  \"bagging_fraction\" : 0.75, \"feature_fraction\" : 0.8, \"bagging_frequency\" : 9}\n",
    "\n",
    "\n",
    "    lgb_train = lgb.Dataset(train_x, label=train_y)\n",
    "    lgb_val = lgb.Dataset(valid_x, label=valid_y)\n",
    "    model = lgb.train(lgb_params, lgb_train, 400, valid_sets=[lgb_val],\n",
    "                      early_stopping_rounds=100, verbose_eval=200)\n",
    "    \n",
    "    prediction = model.predict(valid_x, num_iteration=model.best_iteration)\n",
    "    rmse = np.sqrt(metrics.mean_squared_error(prediction, valid_y))    \n",
    "    return rmse"
   ]
  },
  {
   "cell_type": "code",
   "execution_count": null,
   "metadata": {
    "_uuid": "73c3123640e382bd26a99839f7c430202ecbf877"
   },
   "outputs": [],
   "source": [
    "#To compute p-value\n",
    "testing_cols = ['trafficSource_campaign','totals_pageviews','trafficSource_adContent']\n",
    "for cols in testing_cols:\n",
    "    df_new = df.copy()\n",
    "    count = 0\n",
    "    i=1\n",
    "    while i < 500: #No of iterations\n",
    "        df_new[cols] = np.random.permutation(df_new[cols])   \n",
    "        if calculate_rmse(df_new)<bestValue:\n",
    "            count=count+1\n",
    "    print(count)\n",
    "    print(\"For \",cols,\" number of times RMSE is lesser than base is : \",count)"
   ]
  }
 ],
 "metadata": {
  "kernelspec": {
   "display_name": "Python 3",
   "language": "python",
   "name": "python3"
  },
  "language_info": {
   "codemirror_mode": {
    "name": "ipython",
    "version": 3
   },
   "file_extension": ".py",
   "mimetype": "text/x-python",
   "name": "python",
   "nbconvert_exporter": "python",
   "pygments_lexer": "ipython3",
   "version": "3.6.5"
  }
 },
 "nbformat": 4,
 "nbformat_minor": 1
}
